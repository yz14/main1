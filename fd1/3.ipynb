Hello

$x_i, y_i$
